{
 "cells": [
  {
   "cell_type": "markdown",
   "metadata": {},
   "source": [
    "# Logging / Graphical output\n",
    "\n",
    "ITypescript provides a number of static functions to produce a graphical output.\n",
    "\n",
    "**Note**: Because these functions are dependent on `global.$$` of *IJavascript* and `$TS` class of *ITypescript*, we recommend do not redefine these functions."
   ]
  },
  {
   "cell_type": "markdown",
   "metadata": {},
   "source": [
    "## Text formats\n",
    "\n",
    "ITypescript can output text, error, `HTML` and `SVG`."
   ]
  },
  {
   "cell_type": "markdown",
   "metadata": {},
   "source": [
    "### `$$.text(text: string)` or `$TS.log(text: string)`\n",
    "\n",
    "To output a text string, call this function with a string. For example:"
   ]
  },
  {
   "cell_type": "code",
   "execution_count": null,
   "metadata": {},
   "outputs": [],
   "source": [
    "$$.text(\"hello, world!\");  // Original way in IJavascript"
   ]
  },
  {
   "cell_type": "code",
   "execution_count": null,
   "metadata": {},
   "outputs": [],
   "source": [
    "$TS.log(\"hello, world!\");  // Modified way in ITypescript"
   ]
  },
  {
   "cell_type": "markdown",
   "metadata": {},
   "source": [
    "### `$$.sendError(error: Error)` or `$TS.error(error: Error)`\n",
    "You can throw an error with this static function. Actually, this is exactly what `throw new Error()` does."
   ]
  },
  {
   "cell_type": "code",
   "execution_count": null,
   "metadata": {},
   "outputs": [],
   "source": [
    "$$.sendError(new Error(\"abc\"));"
   ]
  },
  {
   "cell_type": "code",
   "execution_count": null,
   "metadata": {},
   "outputs": [],
   "source": [
    "$TS.error(new Error(\"abc\"));"
   ]
  },
  {
   "cell_type": "markdown",
   "metadata": {},
   "source": [
    "### `$$.html(html: string)` or `$TS.html(html: string)`\n",
    "\n",
    "To output `HTML` simply call this function with a HTML string. See the example below:"
   ]
  },
  {
   "cell_type": "code",
   "execution_count": null,
   "metadata": {},
   "outputs": [],
   "source": [
    "$$.html(\"<div style='background-color:olive;width:50px;height:50px'></div>\");"
   ]
  },
  {
   "cell_type": "code",
   "execution_count": null,
   "metadata": {},
   "outputs": [],
   "source": [
    "$TS.html(\"<div style='background-color:olive;width:50px;height:50px'></div>\");"
   ]
  },
  {
   "cell_type": "markdown",
   "metadata": {},
   "source": [
    "### `$$.svg(xml: string)` or `$TS.svg(xml: string)`\n",
    "\n",
    "Similarly, it is possible to output `SVG` by calling `svg` functino with a XML string:"
   ]
  },
  {
   "cell_type": "code",
   "execution_count": null,
   "metadata": {},
   "outputs": [],
   "source": [
    "$$.svg(\"<svg><rect width=80 height=80 style='fill: orange;'/></svg>\");"
   ]
  },
  {
   "cell_type": "code",
   "execution_count": null,
   "metadata": {},
   "outputs": [],
   "source": [
    "$TS.svg(\"<svg><rect width=80 height=80 style='fill: orange;'/></svg>\");"
   ]
  },
  {
   "cell_type": "markdown",
   "metadata": {},
   "source": [
    "## Binary formats\n",
    "\n",
    "ITypescript can also output pictures in `PNG` and `JPEG` formats. However, this\n",
    "formats are binary and need to be encoded in `base64`. See how in the following\n",
    "examples."
   ]
  },
  {
   "cell_type": "markdown",
   "metadata": {},
   "source": [
    "### `$$.png(base64: string)`, `$TS.png(base64: string)`, or `$TS.pngFile(path: string)`\n",
    "\n",
    "In the below example, a `PNG` file is read, then encoded in `base64` and finally png function is called:"
   ]
  },
  {
   "cell_type": "code",
   "execution_count": null,
   "metadata": {},
   "outputs": [],
   "source": [
    "import * as fs from \"fs\";\n",
    "let base64Code = fs.readFileSync(\"logo.png\").toString(\"base64\");"
   ]
  },
  {
   "cell_type": "code",
   "execution_count": null,
   "metadata": {},
   "outputs": [],
   "source": [
    "$$.png(base64Code);"
   ]
  },
  {
   "cell_type": "code",
   "execution_count": null,
   "metadata": {},
   "outputs": [],
   "source": [
    "$TS.png(base64Code);"
   ]
  },
  {
   "cell_type": "code",
   "execution_count": null,
   "metadata": {},
   "outputs": [],
   "source": [
    "$TS.pngFile(\"logo.png\");"
   ]
  },
  {
   "cell_type": "markdown",
   "metadata": {},
   "source": [
    "### `$$.jpeg(base64: string)`, `$TS.jpg(base64: string)`, or `$TS.jpgFile(path: string)`\n",
    "\n",
    "Similarly with `JPEG` files:"
   ]
  },
  {
   "cell_type": "code",
   "execution_count": null,
   "metadata": {
    "scrolled": true
   },
   "outputs": [],
   "source": [
    "let base64jpg = fs.readFileSync(\"logo.jpg\").toString(\"base64\");\n",
    "$$.jpeg(base64jpg);"
   ]
  },
  {
   "cell_type": "code",
   "execution_count": null,
   "metadata": {},
   "outputs": [],
   "source": [
    "$TS.jpg(base64jpg);"
   ]
  },
  {
   "cell_type": "code",
   "execution_count": null,
   "metadata": {},
   "outputs": [],
   "source": [
    "$TS.jpgFile(\"logo.jpg\");"
   ]
  },
  {
   "cell_type": "markdown",
   "metadata": {},
   "source": [
    "## MIME output\n",
    "### `$$.mime({[mimeType: string]: string})` or `$TS.put(mimeType: string, result: string)`\n",
    "\n",
    "ITypescript also provides a static function `$$.mime` to produce an output in\n",
    "any other format understood by the IPython frontend. Following is an example\n",
    "where instead of calling the static function `$$.html`:"
   ]
  },
  {
   "cell_type": "code",
   "execution_count": null,
   "metadata": {},
   "outputs": [],
   "source": [
    "$$.mime({\"text/html\": \"<div style='background-color:olive;width:50px;height:50px'></div>\"});"
   ]
  },
  {
   "cell_type": "code",
   "execution_count": null,
   "metadata": {},
   "outputs": [],
   "source": [
    "$TS.put(\"text/html\", \"<div style='background-color:olive;width:50px;height:50px'></div>\");"
   ]
  },
  {
   "cell_type": "code",
   "execution_count": null,
   "metadata": {},
   "outputs": [],
   "source": []
  }
 ],
 "metadata": {
  "kernelspec": {
   "display_name": "Typescript 4.3",
   "language": "typescript",
   "name": "typescript"
  },
  "language_info": {
   "file_extension": ".ts",
   "mimetype": "application/x-typescript",
   "name": "typescript",
   "version": "4.3.5"
  }
 },
 "nbformat": 4,
 "nbformat_minor": 1
}
