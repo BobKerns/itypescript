{
 "cells": [
  {
   "cell_type": "markdown",
   "metadata": {},
   "source": [
    "# Welcome!\n",
    "\n",
    "You can type anything as you want. But note that since ITypescript cannot know which cell is currently executing, you cannot redeclare the variables if you define with `let` or equivalent keywords."
   ]
  },
  {
   "cell_type": "code",
   "execution_count": 1,
   "metadata": {},
   "outputs": [
    {
     "data": {
      "text/plain": [
       "undefined"
      ]
     },
     "execution_count": 1,
     "metadata": {},
     "output_type": "execute_result"
    }
   ],
   "source": [
    "let msg = [\"Hello\", \"World!\"].join(\", \");"
   ]
  },
  {
   "cell_type": "code",
   "execution_count": 2,
   "metadata": {},
   "outputs": [
    {
     "data": {
      "text/plain": [
       "'Hello, World!'"
      ]
     },
     "execution_count": 2,
     "metadata": {},
     "output_type": "execute_result"
    }
   ],
   "source": [
    "msg"
   ]
  },
  {
   "cell_type": "code",
   "execution_count": 3,
   "metadata": {},
   "outputs": [
    {
     "ename": "Error",
     "evalue": "Conflict with a committed line: \nlet msg = [\"Hello\", \"World!\"].join(\", \");\n____^\nTS2451: Cannot redeclare block-scoped variable 'msg'.\n\nLine 2, Character 5\nlet msg = 3;\n____^\nTS2451: Cannot redeclare block-scoped variable 'msg'.",
     "output_type": "error",
     "traceback": [
      "Error: Conflict with a committed line: ",
      "let msg = [\"Hello\", \"World!\"].join(\", \");",
      "____^",
      "TS2451: Cannot redeclare block-scoped variable 'msg'.",
      "",
      "Line 2, Character 5",
      "let msg = 3;",
      "____^",
      "TS2451: Cannot redeclare block-scoped variable 'msg'.",
      "    at execTranspile (/home/simona/Desktop/projects/itypescript/lib/kernel.js:203:27)",
      "    at Session.transpiler [as transpile] (/home/simona/Desktop/projects/itypescript/lib/kernel.js:263:37)",
      "    at Session._runNow (/home/simona/Desktop/projects/itypescript/node_modules/nel/lib/nel.js:821:39)",
      "    at Session._run (/home/simona/Desktop/projects/itypescript/node_modules/nel/lib/nel.js:774:14)",
      "    at Session.execute (/home/simona/Desktop/projects/itypescript/node_modules/nel/lib/nel.js:915:10)",
      "    at Kernel.execute_request (/home/simona/Desktop/projects/itypescript/node_modules/jp-kernel/lib/handlers_v5.js:116:18)",
      "    at Kernel.onShellMessage (/home/simona/Desktop/projects/itypescript/node_modules/jp-kernel/lib/jp-kernel.js:285:41)",
      "    at Socket.<anonymous> (/home/simona/Desktop/projects/itypescript/node_modules/jmp/index.js:350:17)",
      "    at Socket.emit (events.js:193:13)",
      "    at Socket._emitMessage (/home/simona/Desktop/projects/itypescript/node_modules/zeromq/lib/index.js:649:15)"
     ]
    }
   ],
   "source": [
    "// If you defined with let, re-declaring is not permitted.\n",
    "let msg = 3;"
   ]
  },
  {
   "cell_type": "code",
   "execution_count": 4,
   "metadata": {},
   "outputs": [
    {
     "data": {
      "text/plain": [
       "'hello!'"
      ]
     },
     "execution_count": 4,
     "metadata": {},
     "output_type": "execute_result"
    }
   ],
   "source": [
    "// But you can replace the values by redefining it.\n",
    "msg = \"hello!\""
   ]
  },
  {
   "cell_type": "code",
   "execution_count": 5,
   "metadata": {},
   "outputs": [
    {
     "name": "stdout",
     "output_type": "stream",
     "text": [
      "hello!\n"
     ]
    },
    {
     "data": {
      "text/plain": [
       "undefined"
      ]
     },
     "execution_count": 5,
     "metadata": {},
     "output_type": "execute_result"
    }
   ],
   "source": [
    "console.log(msg);"
   ]
  },
  {
   "cell_type": "code",
   "execution_count": 6,
   "metadata": {},
   "outputs": [
    {
     "name": "stderr",
     "output_type": "stream",
     "text": [
      "hello!\n"
     ]
    },
    {
     "data": {
      "text/plain": [
       "undefined"
      ]
     },
     "execution_count": 6,
     "metadata": {},
     "output_type": "execute_result"
    }
   ],
   "source": [
    "console.error(msg);"
   ]
  },
  {
   "cell_type": "code",
   "execution_count": 7,
   "metadata": {},
   "outputs": [
    {
     "ename": "Error",
     "evalue": "Oh noes!",
     "output_type": "error",
     "traceback": [
      "evalmachine.<anonymous>:1",
      "throw new Error(\"Oh noes!\");",
      "^",
      "",
      "Error: Oh noes!",
      "    at evalmachine.<anonymous>:1:7",
      "    at Script.runInThisContext (vm.js:124:20)",
      "    at Object.runInThisContext (vm.js:314:38)",
      "    at run ([eval]:1054:15)",
      "    at onRunRequest ([eval]:888:18)",
      "    at onMessage ([eval]:848:13)",
      "    at process.emit (events.js:193:13)",
      "    at emit (internal/child_process.js:848:12)",
      "    at processTicksAndRejections (internal/process/task_queues.js:81:17)"
     ]
    }
   ],
   "source": [
    "throw new Error(\"Oh noes!\");"
   ]
  },
  {
   "cell_type": "code",
   "execution_count": null,
   "metadata": {},
   "outputs": [],
   "source": []
  }
 ],
 "metadata": {
  "kernelspec": {
   "display_name": "Typescript 4.3",
   "language": "typescript",
   "name": "typescript"
  },
  "language_info": {
   "file_extension": ".ts",
   "mimetype": "application/x-typescript",
   "name": "typescript",
   "version": "4.3.5"
  }
 },
 "nbformat": 4,
 "nbformat_minor": 1
}
