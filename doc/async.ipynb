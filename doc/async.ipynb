{
 "cells": [
  {
   "cell_type": "markdown",
   "metadata": {},
   "source": [
    "# Asynchronous output\n",
    "\n",
    "Typescript and Node.JS make heavy use of asynchronous execution. ITypescript lets you exercise these asynchronous capabilities, both:\n",
    "\n",
    "- by updating `stdout` and `stderr` asynchronously, or\n",
    "- by updating the ITypescript output asynchronously.\n",
    "\n",
    "**Note**: This function came from IJavascript, and we port these as static functions."
   ]
  },
  {
   "cell_type": "markdown",
   "metadata": {},
   "source": [
    "## Updating `stdout` and `stderr` asynchronously\n",
    "\n",
    "Both streams `stdout` and `stderr` can be written asynchronously. Any text written to these streams will be forwarded back to the latest request from the frontend:"
   ]
  },
  {
   "cell_type": "code",
   "execution_count": 2,
   "metadata": {},
   "outputs": [
    {
     "data": {
      "text/plain": [
       "undefined"
      ]
     },
     "execution_count": 2,
     "metadata": {},
     "output_type": "execute_result"
    },
    {
     "name": "stdout",
     "output_type": "stream",
     "text": [
      "5\n",
      "4\n",
      "3\n",
      "2\n",
      "1\n",
      "0\n"
     ]
    },
    {
     "name": "stderr",
     "output_type": "stream",
     "text": [
      "Done!\n"
     ]
    }
   ],
   "source": [
    "class Counter {\n",
    "    private _n: number = 1;\n",
    "    private _intervalObject: any;\n",
    "\n",
    "    start(n: number, millisec: number){\n",
    "        this._n = n;\n",
    "        this._intervalObject = setInterval(() => {\n",
    "            console.log(this._n--);\n",
    "            if(this._n < 0){\n",
    "                clearInterval(this._intervalObject);\n",
    "                console.warn(\"Done!\");\n",
    "            }\n",
    "        }, millisec);\n",
    "    }\n",
    "}\n",
    "\n",
    "let c = new Counter();\n",
    "c.start(5, 1000);"
   ]
  },
  {
   "cell_type": "markdown",
   "metadata": {},
   "source": [
    "## Updating the ITypescript output asynchronously\n",
    "\n",
    "ITypescript offers two global definitions to help produce an output asynchronously: `$$async$$` and `$$done$$()`.\n",
    "\n",
    "When you call `$$async$$ = true`, the ITypescript kernel is instructed not to produce an output. Instead, an output can be produced by calling `$$done$$()`. This holding activity can be reset with `$$async$$ = false`.\n",
    "\n",
    "**Note**: Because these functions are dependent on `global.$$` of *IJavascript*, we recommend do not redefine these functions."
   ]
  },
  {
   "cell_type": "code",
   "execution_count": 3,
   "metadata": {},
   "outputs": [
    {
     "name": "stdout",
     "output_type": "stream",
     "text": [
      "Hello!\n"
     ]
    },
    {
     "data": {
      "text/plain": [
       "'And good bye!'"
      ]
     },
     "execution_count": 3,
     "metadata": {},
     "output_type": "execute_result"
    }
   ],
   "source": [
    "%async on\n",
    "\n",
    "console.log(\"Hello!\");\n",
    "\n",
    "setTimeout(\n",
    "    () => {\n",
    "        $TS.retrieve(\"And good bye!\");\n",
    "    },\n",
    "    1000\n",
    ");"
   ]
  },
  {
   "cell_type": "markdown",
   "metadata": {},
   "source": [
    "It is also possible to produce a graphical output asynchronously, the same way it is done synchronously, with the difference that `$$done$$()` has to be called to instruct the ITypescript kernel that the output is ready:"
   ]
  },
  {
   "cell_type": "code",
   "execution_count": 4,
   "metadata": {},
   "outputs": [
    {
     "name": "stdout",
     "output_type": "stream",
     "text": [
      "Hello!\n"
     ]
    },
    {
     "data": {
      "image/svg+xml": [
       "<svg><circle cx='30px' cy='30px' r='20px'/></svg>"
      ]
     },
     "execution_count": 4,
     "metadata": {},
     "output_type": "execute_result"
    }
   ],
   "source": [
    "%async on\n",
    "\n",
    "console.log(\"Hello!\");\n",
    "\n",
    "setTimeout(\n",
    "    () => {\n",
    "        $TS.svg(\"<svg><circle cx='30px' cy='30px' r='20px'/></svg>\");\n",
    "        $TS.done();\n",
    "    },\n",
    "    1000\n",
    ");"
   ]
  },
  {
   "cell_type": "code",
   "execution_count": null,
   "metadata": {},
   "outputs": [],
   "source": []
  }
 ],
 "metadata": {
  "kernelspec": {
   "display_name": "Typescript 3.3",
   "language": "typescript",
   "name": "typescript"
  }
 },
 "nbformat": 4,
 "nbformat_minor": 1
}
