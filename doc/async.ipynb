{
 "cells": [
  {
   "cell_type": "markdown",
   "metadata": {},
   "source": [
    "# Asynchronous output\n",
    "\n",
    "Typescript and Node.JS make heavy use of asynchronous execution. ITypescript lets you exercise these asynchronous capabilities, both:\n",
    "\n",
    "- by updating `stdout` and `stderr` asynchronously, or\n",
    "- by updating the ITypescript output asynchronously.\n",
    "\n",
    "**Note**: This function came from IJavascript, and we port these as static functions."
   ]
  },
  {
   "cell_type": "markdown",
   "metadata": {},
   "source": [
    "## Updating `stdout` and `stderr` asynchronously\n",
    "\n",
    "Both streams `stdout` and `stderr` can be written asynchronously. Any text written to these streams will be forwarded back to the latest request from the frontend:"
   ]
  },
  {
   "cell_type": "code",
   "execution_count": null,
   "metadata": {
    "scrolled": true
   },
   "outputs": [],
   "source": [
    "class Counter {\n",
    "    private _n: number = 1;\n",
    "    private _intervalObject: any;\n",
    "\n",
    "    start(n: number, millisec: number){\n",
    "        this._n = n;\n",
    "        this._intervalObject = setInterval(() => {\n",
    "            console.log(this._n--);\n",
    "            if(this._n < 0){\n",
    "                clearInterval(this._intervalObject);\n",
    "                console.warn(\"Done!\");\n",
    "            }\n",
    "        }, millisec);\n",
    "    }\n",
    "}\n",
    "\n",
    "let c = new Counter();\n",
    "c.start(5, 1000);"
   ]
  },
  {
   "cell_type": "markdown",
   "metadata": {},
   "source": [
    "## Updating the ITypescript output asynchronously\n",
    "\n",
    "ITypescript offers two global definitions to help produce an output asynchronously:\n",
    "* IJavascript style: `$$.async()` and `$$.sendResult(result: any)` or `$$.done()`.\n",
    "* ITypescript style: `%async on` and `$TS.retrieve(result?: any)`.\n",
    "\n",
    "When you call `$$.async()`, the ITypescript kernel is instructed not to produce an output. Instead, an output can be produced by calling `$$.sendResult()` or `$TS.retrieve()`.\n",
    "\n",
    "**Note**: `%async on` should be present at the top of the cell."
   ]
  },
  {
   "cell_type": "code",
   "execution_count": null,
   "metadata": {},
   "outputs": [],
   "source": [
    "// IJavascript style\n",
    "$$.async();\n",
    "\n",
    "console.log(\"Hello!\");\n",
    "\n",
    "setTimeout(\n",
    "    () => {\n",
    "        $$.sendResult(\"And good bye!\");\n",
    "    },\n",
    "    1000\n",
    ");"
   ]
  },
  {
   "cell_type": "markdown",
   "metadata": {},
   "source": [
    "It is also possible to produce a graphical output asynchronously, the same way it is done synchronously, with the difference that `$$done$$()` has to be called to instruct the ITypescript kernel that the output is ready:"
   ]
  },
  {
   "cell_type": "code",
   "execution_count": null,
   "metadata": {},
   "outputs": [],
   "source": [
    "%async on\n",
    "// ITypescript style\n",
    "\n",
    "console.log(\"Hello!\");\n",
    "\n",
    "setTimeout(\n",
    "    () => {\n",
    "        $TS.svg(\"<svg><circle cx='30px' cy='30px' r='20px'/></svg>\");\n",
    "        $TS.done();\n",
    "    },\n",
    "    1000\n",
    ");"
   ]
  },
  {
   "cell_type": "code",
   "execution_count": null,
   "metadata": {},
   "outputs": [],
   "source": []
  }
 ],
 "metadata": {
  "kernelspec": {
   "display_name": "Typescript 4.3",
   "language": "typescript",
   "name": "typescript"
  },
  "language_info": {
   "file_extension": ".ts",
   "mimetype": "application/x-typescript",
   "name": "typescript",
   "version": "4.3.5"
  }
 },
 "nbformat": 4,
 "nbformat_minor": 1
}
