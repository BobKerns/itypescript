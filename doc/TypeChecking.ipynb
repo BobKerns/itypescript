{
 "cells": [
  {
   "cell_type": "markdown",
   "metadata": {},
   "source": [
    "# Type Checking\n",
    "\n",
    "`ITypescript` does type checking, which is helped by `typescript` package. `ITypescript` automatically figure out possible `tsconfig.json` file and apply it. Whenever the json does not exists, `ITypescript` uses basic `tsconfig.json`:\n",
    "```\n",
    "{\n",
    "    \"compilerOptions\": {\n",
    "        \"module\": \"commonjs\",\n",
    "        \"moduleResolution\": \"node\",\n",
    "        \"target\": \"es5\",\n",
    "        \"esModuleInterop\": true,\n",
    "    }\n",
    "}\n",
    "```\n",
    "\n",
    "**Note**: When importing a module with ES6 default syntax (i.e. `import something from 'something'`), we recommend to set 'esModuleInterop' as true in your tsconfig.json. Otherwise, it may not work."
   ]
  },
  {
   "cell_type": "code",
   "execution_count": null,
   "metadata": {},
   "outputs": [],
   "source": [
    "let x: number = 4;\n",
    "console.log(x)"
   ]
  },
  {
   "cell_type": "code",
   "execution_count": null,
   "metadata": {},
   "outputs": [],
   "source": [
    "let y: string = 8;"
   ]
  },
  {
   "cell_type": "code",
   "execution_count": null,
   "metadata": {},
   "outputs": [],
   "source": [
    "let z: number = \"7\";"
   ]
  },
  {
   "cell_type": "markdown",
   "metadata": {},
   "source": [
    "## Overriding the compiler options\n",
    "\n",
    "Sometimes you want to temporally ignore the global tsconfig.json options. ITypescript supports the way to do that.\n",
    "\n",
    "At the top of the cell, add configuration rows which starts with %.\n",
    "```\n",
    "%[key] [value in JSON format]\n",
    "```\n",
    "For example, you can temporally turn on 'esModuleInterop' option by:\n",
    "```\n",
    "%esModuleInterop true\n",
    "```\n",
    "To override the option permanently while running the notebook, end keyname with `!`:\n",
    "```\n",
    "%esModuleInterop! true\n",
    "```\n",
    "\n",
    "**Note** : The effect of overriding only works when compiling the cell. Since ITypescript transpiles all execution hsitory whenever you executes a command, the temporal option change may have side effects in compiling other histories. Thus, we recommend to use this feature only when examining which of your tsconfig.json option is troublematic."
   ]
  },
  {
   "cell_type": "code",
   "execution_count": null,
   "metadata": {
    "scrolled": false
   },
   "outputs": [],
   "source": [
    "%esModuleInterop! true\n",
    "import mongoose from 'mongoose';\n",
    "mongoose"
   ]
  },
  {
   "cell_type": "code",
   "execution_count": null,
   "metadata": {},
   "outputs": [],
   "source": []
  }
 ],
 "metadata": {
  "kernelspec": {
   "display_name": "Typescript 4.3",
   "language": "typescript",
   "name": "typescript"
  },
  "language_info": {
   "file_extension": ".ts",
   "mimetype": "application/x-typescript",
   "name": "typescript",
   "version": "4.3.5"
  }
 },
 "nbformat": 4,
 "nbformat_minor": 1
}
