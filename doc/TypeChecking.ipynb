{
 "cells": [
  {
   "cell_type": "markdown",
   "metadata": {},
   "source": [
    "# Type Checking\n",
    "\n",
    "`ITypescript` does type checking, which is helped by `typescript` package. `ITypescript` automatically figure out possible `tsconfig.json` file and apply it. Whenever the json does not exists, `ITypescript` uses basic `tsconfig.json`:\n",
    "```\n",
    "{\n",
    "    \"compilerOptions\": {\n",
    "        \"module\": \"commonjs\",\n",
    "        \"moduleResolution\": \"node\",\n",
    "        \"target\": \"es5\"\n",
    "    }\n",
    "}\n",
    "```\n",
    "\n",
    "Also, if you installed `@types/*` packages, ITypescript will automatically generate `/// <reference path=.../>` for your convenience."
   ]
  },
  {
   "cell_type": "code",
   "execution_count": 1,
   "metadata": {},
   "outputs": [
    {
     "data": {
      "text/html": [
       "<p style='color:orange'>Without 'allowSyntheticDefaultImports' option in tsconfig.json, import statement may not work as expected. Current configuration: {\"compilerOptions\":{\"module\":\"commonjs\",\"target\":\"es5\",\"strictNullChecks\":true,\"strictBindCallApply\":true,\"sourceMap\":false,\"types\":[\"node\",\"debug\",\"uuid\"]},\"files\":[\"lib/kernel.ts\",\"bin/itypescript.ts\"]}</p>"
      ]
     },
     "execution_count": 1,
     "metadata": {},
     "output_type": "execute_result"
    }
   ],
   "source": [
    "let x: number = 4;\n",
    "console.log(x)"
   ]
  },
  {
   "cell_type": "code",
   "execution_count": 2,
   "metadata": {},
   "outputs": [
    {
     "ename": "Error",
     "evalue": "Line 1, Character 5\nlet y: string = 8;\n____^\nType '8' is not assignable to type 'string'.",
     "output_type": "error",
     "traceback": [
      "Error: Line 1, Character 5",
      "let y: string = 8;",
      "____^",
      "Type '8' is not assignable to type 'string'.",
      "    at execTranspile (/home/bydelta/git/itypescript/lib/kernel.js:195:27)",
      "    at Session.transpiler [as transpile] (/home/bydelta/git/itypescript/lib/kernel.js:234:37)",
      "    at Session._runNow (/home/bydelta/git/itypescript/node_modules/nel/lib/nel.js:796:39)",
      "    at Session._runNext (/home/bydelta/git/itypescript/node_modules/nel/lib/nel.js:837:14)",
      "    at Session._onMessage (/home/bydelta/git/itypescript/node_modules/nel/lib/nel.js:753:14)",
      "    at ChildProcess.emit (events.js:189:13)",
      "    at emit (internal/child_process.js:820:12)",
      "    at process._tickCallback (internal/process/next_tick.js:63:19)"
     ]
    }
   ],
   "source": [
    "let y: string = 8;"
   ]
  },
  {
   "cell_type": "code",
   "execution_count": 3,
   "metadata": {},
   "outputs": [
    {
     "ename": "Error",
     "evalue": "Line 1, Character 5\nlet z: number = \"7\";\n____^\nType '\"7\"' is not assignable to type 'number'.",
     "output_type": "error",
     "traceback": [
      "Error: Line 1, Character 5",
      "let z: number = \"7\";",
      "____^",
      "Type '\"7\"' is not assignable to type 'number'.",
      "    at execTranspile (/home/bydelta/git/itypescript/lib/kernel.js:195:27)",
      "    at Session.transpiler [as transpile] (/home/bydelta/git/itypescript/lib/kernel.js:234:37)",
      "    at Session._runNow (/home/bydelta/git/itypescript/node_modules/nel/lib/nel.js:796:39)",
      "    at Session._runNext (/home/bydelta/git/itypescript/node_modules/nel/lib/nel.js:837:14)",
      "    at Session._onMessage (/home/bydelta/git/itypescript/node_modules/nel/lib/nel.js:753:14)",
      "    at Session._runNow (/home/bydelta/git/itypescript/node_modules/nel/lib/nel.js:800:18)",
      "    at Session._runNext (/home/bydelta/git/itypescript/node_modules/nel/lib/nel.js:837:14)",
      "    at Session._onMessage (/home/bydelta/git/itypescript/node_modules/nel/lib/nel.js:753:14)",
      "    at ChildProcess.emit (events.js:189:13)",
      "    at emit (internal/child_process.js:820:12)"
     ]
    }
   ],
   "source": [
    "let z: number = \"7\";"
   ]
  },
  {
   "cell_type": "code",
   "execution_count": 4,
   "metadata": {
    "scrolled": false
   },
   "outputs": [
    {
     "name": "stdout",
     "output_type": "stream",
     "text": [
      "4\n"
     ]
    },
    {
     "data": {
      "text/plain": [
       "undefined"
      ]
     },
     "execution_count": 4,
     "metadata": {},
     "output_type": "execute_result"
    }
   ],
   "source": [
    "import mongoose from 'mongoose';\n",
    "mongoose"
   ]
  },
  {
   "cell_type": "code",
   "execution_count": 7,
   "metadata": {},
   "outputs": [
    {
     "ename": "TypeError",
     "evalue": "Cannot convert undefined or null to object",
     "output_type": "error",
     "traceback": [
      "evalmachine.<anonymous>:1",
      "Object.keys(mongoose_1[\"default\"]);",
      "       ^",
      "",
      "TypeError: Cannot convert undefined or null to object",
      "    at Function.keys (<anonymous>)",
      "    at evalmachine.<anonymous>:1:8",
      "    at Script.runInThisContext (vm.js:119:20)",
      "    at Object.runInThisContext (vm.js:326:38)",
      "    at run ([eval]:1054:15)",
      "    at onRunRequest ([eval]:888:18)",
      "    at onMessage ([eval]:848:13)",
      "    at process.emit (events.js:189:13)",
      "    at emit (internal/child_process.js:820:12)",
      "    at process._tickCallback (internal/process/next_tick.js:63:19)"
     ]
    }
   ],
   "source": []
  },
  {
   "cell_type": "code",
   "execution_count": null,
   "metadata": {},
   "outputs": [],
   "source": []
  }
 ],
 "metadata": {
  "kernelspec": {
   "display_name": "Typescript 3.3",
   "language": "typescript",
   "name": "typescript"
  },
  "language_info": {
   "file_extension": ".ts",
   "mimetype": "application/x-typescript",
   "name": "typescript",
   "version": "3.3.4000"
  }
 },
 "nbformat": 4,
 "nbformat_minor": 1
}
