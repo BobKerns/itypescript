{
 "cells": [
  {
   "cell_type": "markdown",
   "metadata": {},
   "source": [
    "# Type Checking\n",
    "\n",
    "`ITypescript` does type checking, which is helped by `typescript` package. `ITypescript` automatically figure out possible `tsconfig.json` file and apply it. Whenever the json does not exists, `ITypescript` uses basic `tsconfig.json`:\n",
    "```\n",
    "{\n",
    "    \"compilerOptions\": {\n",
    "        \"module\": \"commonjs\",\n",
    "        \"moduleResolution\": \"node\",\n",
    "        \"target\": \"es5\",\n",
    "        \"esModuleInterop\": true,\n",
    "    }\n",
    "}\n",
    "```\n",
    "\n",
    "**Note**: When importing a module with ES6 default syntax (i.e. `import something from 'something'`), we recommend to set 'esModuleInterop' as true in your tsconfig.json. Otherwise, it may not work."
   ]
  },
  {
   "cell_type": "code",
   "execution_count": 1,
   "metadata": {},
   "outputs": [
    {
     "name": "stdout",
     "output_type": "stream",
     "text": [
      "4\n"
     ]
    },
    {
     "data": {
      "text/plain": [
       "undefined"
      ]
     },
     "execution_count": 1,
     "metadata": {},
     "output_type": "execute_result"
    }
   ],
   "source": [
    "let x: number = 4;\n",
    "console.log(x)"
   ]
  },
  {
   "cell_type": "code",
   "execution_count": 2,
   "metadata": {},
   "outputs": [
    {
     "ename": "Error",
     "evalue": "Line 1, Character 5\nlet y: string = 8;\n____^\nType '8' is not assignable to type 'string'.",
     "output_type": "error",
     "traceback": [
      "Error: Line 1, Character 5",
      "let y: string = 8;",
      "____^",
      "Type '8' is not assignable to type 'string'.",
      "    at execTranspile (/home/bydelta/git/itypescript/lib/kernel.js:191:27)",
      "    at Session.transpiler [as transpile] (/home/bydelta/git/itypescript/lib/kernel.js:250:37)",
      "    at Session._runNow (/home/bydelta/git/itypescript/node_modules/nel/lib/nel.js:796:39)",
      "    at Session._runNext (/home/bydelta/git/itypescript/node_modules/nel/lib/nel.js:837:14)",
      "    at Session._onMessage (/home/bydelta/git/itypescript/node_modules/nel/lib/nel.js:753:14)",
      "    at ChildProcess.emit (events.js:189:13)",
      "    at emit (internal/child_process.js:820:12)",
      "    at process._tickCallback (internal/process/next_tick.js:63:19)"
     ]
    }
   ],
   "source": [
    "let y: string = 8;"
   ]
  },
  {
   "cell_type": "code",
   "execution_count": 3,
   "metadata": {},
   "outputs": [
    {
     "ename": "Error",
     "evalue": "Line 1, Character 5\nlet z: number = \"7\";\n____^\nType '\"7\"' is not assignable to type 'number'.",
     "output_type": "error",
     "traceback": [
      "Error: Line 1, Character 5",
      "let z: number = \"7\";",
      "____^",
      "Type '\"7\"' is not assignable to type 'number'.",
      "    at execTranspile (/home/bydelta/git/itypescript/lib/kernel.js:191:27)",
      "    at Session.transpiler [as transpile] (/home/bydelta/git/itypescript/lib/kernel.js:250:37)",
      "    at Session._runNow (/home/bydelta/git/itypescript/node_modules/nel/lib/nel.js:796:39)",
      "    at Session._runNext (/home/bydelta/git/itypescript/node_modules/nel/lib/nel.js:837:14)",
      "    at Session._onMessage (/home/bydelta/git/itypescript/node_modules/nel/lib/nel.js:753:14)",
      "    at Session._runNow (/home/bydelta/git/itypescript/node_modules/nel/lib/nel.js:800:18)",
      "    at Session._runNext (/home/bydelta/git/itypescript/node_modules/nel/lib/nel.js:837:14)",
      "    at Session._onMessage (/home/bydelta/git/itypescript/node_modules/nel/lib/nel.js:753:14)",
      "    at ChildProcess.emit (events.js:189:13)",
      "    at emit (internal/child_process.js:820:12)"
     ]
    }
   ],
   "source": [
    "let z: number = \"7\";"
   ]
  },
  {
   "cell_type": "markdown",
   "metadata": {},
   "source": [
    "## Overriding the compiler options\n",
    "\n",
    "Sometimes you want to temporally ignore the global tsconfig.json options. ITypescript supports the way to do that.\n",
    "\n",
    "At the top of the cell, add configuration rows which starts with %.\n",
    "```\n",
    "%[key] [value in JSON format]\n",
    "```\n",
    "For example, you can temporally turn on 'esModuleInterop' option by:\n",
    "```\n",
    "%esModuleInterop true\n",
    "```\n",
    "To override the option permanently while running the notebook, end keyname with `!`:\n",
    "```\n",
    "%esModuleInterop! true\n",
    "```\n",
    "\n",
    "**Note** : The effect of overriding only works when compiling the cell. Since ITypescript transpiles all execution hsitory whenever you executes a command, the temporal option change may have side effects in compiling other histories. Thus, we recommend to use this feature only when examining which of your tsconfig.json option is troublematic."
   ]
  },
  {
   "cell_type": "code",
   "execution_count": 4,
   "metadata": {
    "scrolled": false
   },
   "outputs": [
    {
     "data": {
      "text/plain": [
       "Mongoose {\n",
       "  connections:\n",
       "   [ NativeConnection {\n",
       "       base: [Circular],\n",
       "       collections: {},\n",
       "       models: {},\n",
       "       config: [Object],\n",
       "       replica: false,\n",
       "       options: null,\n",
       "       otherDbs: [],\n",
       "       relatedDbs: {},\n",
       "       states: [Object],\n",
       "       _readyState: 0,\n",
       "       _closeCalled: false,\n",
       "       _hasOpened: false,\n",
       "       '$internalEmitter': [EventEmitter],\n",
       "       _listening: false } ],\n",
       "  models: {},\n",
       "  modelSchemas: {},\n",
       "  options: { pluralization: true },\n",
       "  _pluralize: [Function: pluralize],\n",
       "  Schema:\n",
       "   { [Function: Schema]\n",
       "     reserved:\n",
       "      [Object: null prototype] {\n",
       "        _posts: 1,\n",
       "        _pres: 1,\n",
       "        populated: 1,\n",
       "        remove: 1,\n",
       "        validate: 1,\n",
       "        toObject: 1,\n",
       "        schema: 1,\n",
       "        save: 1,\n",
       "        modelName: 1,\n",
       "        get: 1,\n",
       "        isNew: 1,\n",
       "        isModified: 1,\n",
       "        init: 1,\n",
       "        errors: 1,\n",
       "        db: 1,\n",
       "        collection: 1,\n",
       "        removeListener: 1,\n",
       "        listeners: 1,\n",
       "        once: 1,\n",
       "        on: 1,\n",
       "        emit: 1,\n",
       "        prototype: 1 },\n",
       "     Types:\n",
       "      { String: [Function],\n",
       "        Number: [Function],\n",
       "        Boolean: [Function],\n",
       "        DocumentArray: [Function],\n",
       "        Embedded: [Function: Embedded],\n",
       "        Array: [Function],\n",
       "        Buffer: [Function],\n",
       "        Date: [Function],\n",
       "        ObjectId: [Function],\n",
       "        Mixed: [Function],\n",
       "        Decimal: [Function],\n",
       "        Decimal128: [Function],\n",
       "        Map: [Function: Map],\n",
       "        Oid: [Function],\n",
       "        Object: [Function],\n",
       "        Bool: [Function] },\n",
       "     ObjectId:\n",
       "      { [Function: ObjectId]\n",
       "        schemaName: 'ObjectId',\n",
       "        get: [Function],\n",
       "        _checkRequired: [Function],\n",
       "        _cast: [Function: castObjectId],\n",
       "        cast: [Function: cast],\n",
       "        checkRequired: [Function] } },\n",
       "  model: [Function],\n",
       "  plugins:\n",
       "   [ [ [Function], [Object] ],\n",
       "     [ [Function], [Object] ],\n",
       "     [ [Function], [Object] ],\n",
       "     [ [Function], [Object] ] ] }"
      ]
     },
     "execution_count": 4,
     "metadata": {},
     "output_type": "execute_result"
    }
   ],
   "source": [
    "%esModuleInterop! true\n",
    "import mongoose from 'mongoose';\n",
    "mongoose"
   ]
  },
  {
   "cell_type": "code",
   "execution_count": null,
   "metadata": {},
   "outputs": [],
   "source": []
  }
 ],
 "metadata": {
  "kernelspec": {
   "display_name": "Typescript 3.3",
   "language": "typescript",
   "name": "typescript"
  },
  "language_info": {
   "file_extension": ".ts",
   "mimetype": "application/x-typescript",
   "name": "typescript",
   "version": "3.3.4000"
  }
 },
 "nbformat": 4,
 "nbformat_minor": 1
}
