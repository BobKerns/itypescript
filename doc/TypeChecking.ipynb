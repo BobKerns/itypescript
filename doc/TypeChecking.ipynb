{
 "cells": [
  {
   "cell_type": "markdown",
   "metadata": {},
   "source": [
    "# Type Checking\n",
    "\n",
    "`ITypescript` does type checking, which is helped by `typescript-simple` package. `ITypescript` automatically figure out possible `tsconfig.json` file and apply it. Whenever the json does not exists, `ITypescript` uses basic `tsconfig.json`:\n",
    "```\n",
    "{\n",
    "    \"compilerOptions\": {\n",
    "        \"module\": \"commonjs\",\n",
    "        \"moduleResolution\": \"node\",\n",
    "        \"target\": \"es5\"\n",
    "    }\n",
    "}\n",
    "```"
   ]
  },
  {
   "cell_type": "code",
   "execution_count": 1,
   "metadata": {},
   "outputs": [
    {
     "data": {
      "text/plain": [
       "undefined"
      ]
     },
     "execution_count": 1,
     "metadata": {},
     "output_type": "execute_result"
    }
   ],
   "source": [
    "%typecheck on\n",
    "let x: number = 4;"
   ]
  },
  {
   "cell_type": "code",
   "execution_count": 2,
   "metadata": {},
   "outputs": [
    {
     "data": {
      "text/plain": [
       "undefined"
      ]
     },
     "execution_count": 2,
     "metadata": {},
     "output_type": "execute_result"
    }
   ],
   "source": [
    "%typecheck on\n",
    "let y: string = 8;"
   ]
  },
  {
   "cell_type": "code",
   "execution_count": null,
   "metadata": {},
   "outputs": [],
   "source": [
    "let z: number = \"7\";"
   ]
  },
  {
   "cell_type": "markdown",
   "metadata": {
    "collapsed": true
   },
   "source": [
    "## NOTE\n",
    "Because of current issue in `typescript-simple`, semantic checking and module import cannot co-exist. Therefore, the type checking is enabled only when you provided the `--ts-semantic-chk=on` option in the command line arguments of `its`. The following is the error when you using both semantic type checking and module import."
   ]
  },
  {
   "cell_type": "code",
   "execution_count": null,
   "metadata": {},
   "outputs": [],
   "source": [
    "import * as fs from 'fs';"
   ]
  },
  {
   "cell_type": "code",
   "execution_count": null,
   "metadata": {},
   "outputs": [],
   "source": []
  }
 ],
 "metadata": {
  "kernelspec": {
   "display_name": "Typescript 3.3",
   "language": "typescript",
   "name": "typescript"
  }
 },
 "nbformat": 4,
 "nbformat_minor": 1
}
