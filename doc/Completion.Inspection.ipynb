{
 "cells": [
  {
   "cell_type": "markdown",
   "metadata": {},
   "source": [
    "# `TAB` completion\n",
    "\n",
    "ITypescript provides a completion list for both Typescript keywords and object\n",
    "properties. This completion list is shown when `TAB` is pressed.\n",
    "\n",
    "It can be used to complete object properties accessed using the dot operator(`.`) or the bracket operator (`[]`).\n",
    "\n",
    "**Note**: For exact matching, the cell should be run at least once. Otherwise, some properties are not appear, because typescript did not transpiled into javascript yet."
   ]
  },
  {
   "cell_type": "code",
   "execution_count": 1,
   "metadata": {},
   "outputs": [
    {
     "data": {
      "text/plain": [
       "undefined"
      ]
     },
     "execution_count": 1,
     "metadata": {},
     "output_type": "execute_result"
    }
   ],
   "source": [
    "class Surface{\n",
    "    texture: string = \"\";\n",
    "}\n",
    "\n",
    "let x = new Surface();"
   ]
  },
  {
   "cell_type": "code",
   "execution_count": 2,
   "metadata": {},
   "outputs": [
    {
     "ename": "Error",
     "evalue": "Line 2, Character 3\nx.\n__^\nTS1003: Identifier expected.",
     "output_type": "error",
     "traceback": [
      "Error: Line 2, Character 3",
      "x.",
      "__^",
      "TS1003: Identifier expected.",
      "    at execTranspile (/home/simona/Desktop/projects/itypescript/lib/kernel.js:203:27)",
      "    at Session.transpiler [as transpile] (/home/simona/Desktop/projects/itypescript/lib/kernel.js:263:37)",
      "    at Session._runNow (/home/simona/Desktop/projects/itypescript/node_modules/nel/lib/nel.js:821:39)",
      "    at Session._runNext (/home/simona/Desktop/projects/itypescript/node_modules/nel/lib/nel.js:862:14)",
      "    at Session._onMessage (/home/simona/Desktop/projects/itypescript/node_modules/nel/lib/nel.js:761:14)",
      "    at ChildProcess.emit (events.js:193:13)",
      "    at emit (internal/child_process.js:848:12)",
      "    at processTicksAndRejections (internal/process/task_queues.js:81:17)"
     ]
    }
   ],
   "source": [
    "// Now press tab here:\n",
    "x."
   ]
  },
  {
   "cell_type": "code",
   "execution_count": 3,
   "metadata": {},
   "outputs": [
    {
     "data": {
      "text/plain": [
       "undefined"
      ]
     },
     "execution_count": 3,
     "metadata": {},
     "output_type": "execute_result"
    }
   ],
   "source": [
    "// For the bracket, we need an object.\n",
    "let object = {\n",
    "    name: \"me\",\n",
    "    age: 1\n",
    "};"
   ]
  },
  {
   "cell_type": "code",
   "execution_count": 4,
   "metadata": {},
   "outputs": [
    {
     "ename": "Error",
     "evalue": "Line 2, Character 9\nobject[\"\n________^\nTS1002: Unterminated string literal.",
     "output_type": "error",
     "traceback": [
      "Error: Line 2, Character 9",
      "object[\"",
      "________^",
      "TS1002: Unterminated string literal.",
      "    at execTranspile (/home/simona/Desktop/projects/itypescript/lib/kernel.js:203:27)",
      "    at Session.transpiler [as transpile] (/home/simona/Desktop/projects/itypescript/lib/kernel.js:263:37)",
      "    at Session._runNow (/home/simona/Desktop/projects/itypescript/node_modules/nel/lib/nel.js:821:39)",
      "    at Session._runNext (/home/simona/Desktop/projects/itypescript/node_modules/nel/lib/nel.js:862:14)",
      "    at Session._onMessage (/home/simona/Desktop/projects/itypescript/node_modules/nel/lib/nel.js:761:14)",
      "    at ChildProcess.emit (events.js:193:13)",
      "    at emit (internal/child_process.js:848:12)",
      "    at processTicksAndRejections (internal/process/task_queues.js:81:17)"
     ]
    }
   ],
   "source": [
    "// Now press tab here:\n",
    "object[\""
   ]
  },
  {
   "cell_type": "markdown",
   "metadata": {},
   "source": [
    "# `Shift-TAB` object inspection\n",
    "\n",
    "ITypescript has the capability of inspection the value of an object or its\n",
    "documentation if available.\n",
    "\n",
    "To show the content of a variable, move the cursor to the end of that variable\n",
    "and press `Shift-TAB`.\n",
    "\n",
    "When available, ITypescript will show the associated documentation instead."
   ]
  },
  {
   "cell_type": "code",
   "execution_count": 5,
   "metadata": {},
   "outputs": [
    {
     "data": {
      "text/plain": [
       "{ name: 'me', age: 1 }"
      ]
     },
     "execution_count": 5,
     "metadata": {},
     "output_type": "execute_result"
    }
   ],
   "source": [
    "// Press shift-tab here\n",
    "x\n",
    "// Again, here:\n",
    "object"
   ]
  }
 ],
 "metadata": {
  "kernelspec": {
   "display_name": "Typescript 4.3",
   "language": "typescript",
   "name": "typescript"
  },
  "language_info": {
   "file_extension": ".ts",
   "mimetype": "application/x-typescript",
   "name": "typescript",
   "version": "4.3.5"
  }
 },
 "nbformat": 4,
 "nbformat_minor": 1
}
